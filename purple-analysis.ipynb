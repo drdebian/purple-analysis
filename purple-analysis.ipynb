{
 "cells": [
  {
   "cell_type": "markdown",
   "metadata": {},
   "source": [
    "Analysis of LiLa field test data\n",
    "-----------\n",
    "Author: Albert Ulmer  \n",
    "Date: May 2022  "
   ]
  },
  {
   "cell_type": "code",
   "execution_count": null,
   "metadata": {},
   "outputs": [],
   "source": [
    "# autoreload packages\n",
    "%load_ext autoreload\n",
    "%autoreload 2\n",
    "\n",
    "# libraries\n",
    "import sqlite3\n",
    "import pandas as pd\n",
    "import numpy as np\n",
    "import matplotlib.pyplot as plt\n",
    "import seaborn as sns\n",
    "from typing import Dict, Any\n",
    "import datetime as dt\n",
    "\n",
    "import myfunctions as mf\n"
   ]
  },
  {
   "cell_type": "code",
   "execution_count": null,
   "metadata": {},
   "outputs": [],
   "source": [
    "# parameters\n",
    "phases = {}\n",
    "phases[\"phase1\"] = pd.Timestamp(\"2022-03-07 00:00:00.000000\")\n",
    "phases[\"phase2\"] = pd.Timestamp(\"2022-03-14 00:00:00.000000\")\n",
    "phases[\"phase3\"] = pd.Timestamp(\"2022-03-21 00:00:00.000000\")\n",
    "phases[\"phase4\"] = pd.Timestamp(\"2022-03-28 00:00:00.000000\")\n",
    "phases[\"end\"] = pd.Timestamp(\"2022-04-04 00:00:00.000000\")\n",
    "\n",
    "# constants\n",
    "freq = '15T'"
   ]
  },
  {
   "cell_type": "code",
   "execution_count": null,
   "metadata": {},
   "outputs": [],
   "source": [
    "# connect to SQLite database\n",
    "try:\n",
    "    conn = sqlite3.connect('../../data/lila/purple.sqlite3')\n",
    "    print('Connected to database...')\n",
    "except:\n",
    "    print('Database error!')\n",
    "    exit()\n"
   ]
  },
  {
   "cell_type": "code",
   "execution_count": null,
   "metadata": {},
   "outputs": [],
   "source": [
    "### Set global flag whether to save plots to files or not\n",
    "writefiles = 1\n",
    "\n",
    "if writefiles:\n",
    "    print(\"Writing output files!\")\n",
    "else:\n",
    "    print(\"Leaving files alone!\")\n"
   ]
  },
  {
   "cell_type": "code",
   "execution_count": null,
   "metadata": {},
   "outputs": [],
   "source": [
    "### Set global flag whether to print debug messages while running code\n",
    "showdebug = 1\n",
    "\n",
    "if showdebug:\n",
    "    print(\"Showing debug messages!\")\n",
    "else:\n",
    "    print(\"No debug messages will be shown!\")"
   ]
  },
  {
   "cell_type": "markdown",
   "metadata": {},
   "source": [
    "## Charging Comfort"
   ]
  },
  {
   "cell_type": "code",
   "execution_count": null,
   "metadata": {},
   "outputs": [],
   "source": [
    "# execute SQL query\n",
    "querycc = open(\"sqls/cars_with_wallboxes_15min_v2.sql\").read()\n",
    "dfcc = pd.read_sql_query(querycc, conn)\n",
    "\n",
    "# fix datatypes\n",
    "dfcc[\"timestamp\"] =  pd.to_datetime(dfcc[\"timestamp\"]) \n",
    "\n",
    "# filter to daterange of field test\n",
    "dfcc = dfcc[(dfcc[\"timestamp\"] >= phases[\"phase1\"]) & (dfcc[\"timestamp\"] < phases[\"end\"])]\n",
    "\n",
    "# set index\n",
    "dfcc.set_index(['vehicle', 'timestamp'], inplace=True, drop=True)\n",
    "dfcc.head()\n"
   ]
  },
  {
   "cell_type": "code",
   "execution_count": null,
   "metadata": {},
   "outputs": [],
   "source": [
    "# load EV data and add features\n",
    "dfcc2 = mf.load_ev_data(dfcc, phases, freq)\n",
    "dfcc2.head()\n"
   ]
  },
  {
   "cell_type": "code",
   "execution_count": null,
   "metadata": {},
   "outputs": [],
   "source": [
    "# find first departure per day\n",
    "dfcc3 = mf.filter_ev_data_first_departure_per_day(dfcc2)\n",
    "dfcc3\n"
   ]
  },
  {
   "cell_type": "code",
   "execution_count": null,
   "metadata": {},
   "outputs": [],
   "source": [
    "# reset index for easier analysis and plotting\n",
    "dfcc4 = dfcc3.reset_index(inplace=False)\n",
    "dfcc4\n"
   ]
  },
  {
   "cell_type": "markdown",
   "metadata": {},
   "source": [
    "#### Satisfaction per car"
   ]
  },
  {
   "cell_type": "code",
   "execution_count": null,
   "metadata": {},
   "outputs": [],
   "source": [
    "# prepare data for plotting\n",
    "dfcc4_pivot = dfcc4[dfcc4.stateOfCharge>30].pivot_table(index=\"phase\", values=\"stateOfCharge\", columns=\"vehicle\").round(2)\n",
    "models = [\"Direct\", \"Rule-based\", \"Predictive\", \"Stochastic\"]\n",
    "models.reverse()\n",
    "dfcc4_pivot.sort_index(ascending=False, inplace=True)\n",
    "dfcc4_pivot.index = models\n",
    "dfcc4_pivot"
   ]
  },
  {
   "cell_type": "code",
   "execution_count": null,
   "metadata": {},
   "outputs": [],
   "source": [
    "plt.style.use(\"ggplot\")\n",
    "f, ax = plt.subplots(figsize=(8, 6))\n",
    "sns.heatmap(data=dfcc4_pivot, annot=True, fmt=\".0f\", ax=ax, cmap=\"Greens\", cbar_kws={\"label\": \"Satisfaction [%]\"})\n",
    "ax.set_xlabel(\"Vehicle\")\n",
    "ax.set_ylabel(\"Charging Strategy\")\n",
    "#ax.set_zlabel(\"Satisfaction [%]\")\n",
    "if writefiles:\n",
    "    plt.savefig(\"output/chargingcomfort_cars.png\",\n",
    "                bbox_inches='tight', dpi=300)\n",
    "    plt.close()\n"
   ]
  },
  {
   "cell_type": "markdown",
   "metadata": {},
   "source": [
    "#### Satisfaction per strategy"
   ]
  },
  {
   "cell_type": "code",
   "execution_count": null,
   "metadata": {},
   "outputs": [],
   "source": [
    "dfcc4_pivot_strategies = dfcc4[dfcc4.stateOfCharge>30].pivot_table(values=\"stateOfCharge\", index=\"phase\", aggfunc=[\"max\", \"min\", \"std\", \"median\"]).round(2)\n",
    "models = [\"Direct\", \"Rule-based\", \"Predictive\", \"Stochastic\"]\n",
    "dfcc4_pivot_strategies.index = models\n",
    "dfcc4_pivot_strategies.columns.set_levels([\"Maximum\", \"Minimum\", \"Std. Deviation\", \"Median\"], level=0, inplace=True)\n",
    "dfcc4_pivot_strategies.columns.set_levels([\"Satisfaction [%]\"], level=1, inplace=True)\n",
    "dfcc4_pivot_strategies"
   ]
  },
  {
   "cell_type": "code",
   "execution_count": null,
   "metadata": {},
   "outputs": [],
   "source": [
    "if writefiles:\n",
    "    dfcc4_pivot_strategies.to_latex(\n",
    "        buf=\"output/chargingcomfort_strategies.tex\", bold_rows=True)\n"
   ]
  },
  {
   "cell_type": "code",
   "execution_count": null,
   "metadata": {},
   "outputs": [],
   "source": [
    "import seaborn as sns\n",
    "import matplotlib.pyplot as plt\n",
    "\n",
    "models = [\"Direct\", \"Rule-based\", \"Predictive\", \"Stochastic\"]\n",
    "plt.style.use(\"ggplot\")\n",
    "\n",
    "f, ax = plt.subplots()\n",
    "sns.violinplot(data=dfcc4[dfcc4.stateOfCharge>30], x=\"phase\", y=\"stateOfCharge\", #palette=\"light:g\",\n",
    "               alpha=1, bw=.2, cut=1, linewidth=2)\n",
    "ax.set_xlabel(\"Charging Strategy\")\n",
    "ax.set_ylabel(\"Satisfaction [%]\")\n",
    "ax.set_xticklabels(models)\n",
    "#ax.set(ylim=(0, 100))\n",
    "\n",
    "if writefiles:\n",
    "    plt.savefig(\"output/chargingcomfort_strategies.png\",\n",
    "                bbox_inches='tight', dpi=300)\n",
    "    #plt.close()\n"
   ]
  },
  {
   "cell_type": "markdown",
   "metadata": {},
   "source": [
    "### Departure Time per Vehicle"
   ]
  },
  {
   "cell_type": "code",
   "execution_count": null,
   "metadata": {},
   "outputs": [],
   "source": [
    "import seaborn as sns\n",
    "import matplotlib.pyplot as plt\n",
    "plt.style.use(\"ggplot\")\n",
    "\n",
    "f, ax = plt.subplots()\n",
    "sns.violinplot(data=dfcc4, x=\"vehicle\", y=\"hour\",\n",
    "               alpha=1, bw=.2, cut=1, linewidth=2)\n",
    "ax.set_xlabel(\"Vehicle\")\n",
    "ax.set_ylabel(\"Hour of departure\")\n",
    "ax.set(ylim=(0, 24))\n",
    "\n",
    "if writefiles:\n",
    "    plt.savefig(\"output/departuretimes_cars.png\",\n",
    "                bbox_inches='tight', dpi=300)\n",
    "    #plt.close()\n"
   ]
  },
  {
   "cell_type": "markdown",
   "metadata": {},
   "source": [
    "### Driving vs. Charging"
   ]
  },
  {
   "cell_type": "code",
   "execution_count": null,
   "metadata": {},
   "outputs": [],
   "source": [
    "#generate heat feature for plotting: heat = 1 ... charging, -1 ... driving\n",
    "dfcc5 = dfcc2.reset_index()\n",
    "dfcc5[\"heat\"] = dfcc5.charging - dfcc5.driving\n",
    "dfcc5.head()"
   ]
  },
  {
   "cell_type": "code",
   "execution_count": null,
   "metadata": {},
   "outputs": [],
   "source": [
    "def car_heatmap(data, vehicle, phase, ax):\n",
    "    my_ev = data[(data.vehicle == vehicle) & (data.phase == phase)]\n",
    "    my_ev = my_ev.set_index(\"timestamp\")\n",
    "    my_ev = my_ev.resample(\"H\").agg(\n",
    "             {\"heat\": \"mean\"\n",
    "              }\n",
    "         ).pad()\n",
    "    my_ev = my_ev.reset_index()\n",
    "\n",
    "    #hour = my_ev[\"timestamp\"].dt.hour\n",
    "    date = my_ev[\"timestamp\"].dt.date\n",
    "    temp = my_ev[\"heat\"]\n",
    "    temp = temp.values.reshape(24, len(date.unique()), order=\"F\")\n",
    "    \n",
    "    xgrid = np.arange(len(date.unique())+ 1) + 1\n",
    "    ygrid = np.arange(25)\n",
    "    \n",
    "    ax.grid(False)\n",
    "    ax.pcolormesh(xgrid, ygrid, temp, cmap=\"RdYlGn\", vmin=MIN_TEMP, vmax=MAX_TEMP)\n",
    "    # Invert the vertical axis\n",
    "    ax.set_ylim(24, 0)\n",
    "    # Set tick positions for both axes\n",
    "    #ax.yaxis.set_ticks([i for i in range(24)])\n",
    "    ax.yaxis.set_ticks([0,6,12,18])\n",
    "    ax.xaxis.set_ticks([i+1 for i in range(7)])\n",
    "    # Remove ticks by setting their length to 0\n",
    "    ax.yaxis.set_tick_params(length=0)\n",
    "    ax.xaxis.set_tick_params(length=0)\n",
    "    \n",
    "    # Remove all spines\n",
    "    ax.set_frame_on(False)\n",
    "\n",
    "    return ax\n"
   ]
  },
  {
   "cell_type": "code",
   "execution_count": null,
   "metadata": {},
   "outputs": [],
   "source": [
    "MIN_TEMP = dfcc5[\"heat\"].min()\n",
    "MAX_TEMP = dfcc5[\"heat\"].max()\n",
    "\n",
    "my_vehicles = dfcc5.vehicle.unique()\n",
    "my_phases = [1,2,3,4]\n",
    "models = [\"Direct\", \"Rule-based\", \"Predictive\", \"Stochastic\"]\n",
    "\n",
    "fig, axes = plt.subplots(len(my_phases), len(my_vehicles), figsize=(7, 7), sharey=True)\n",
    "\n",
    "for i, p in enumerate(my_phases):\n",
    "    for j, v in enumerate(my_vehicles):\n",
    "        myhm = car_heatmap(dfcc5, v, p, axes[i, j])\n",
    "        if i == 0:\n",
    "            myhm.set_title(v)\n",
    "        if i == len(my_phases) - 1:\n",
    "            myhm.set_xlabel(\"Day of Week\", fontsize=8)\n",
    "        if j == 0:\n",
    "            myhm.set_ylabel(\"Hour of Day\", fontsize=8)\n",
    "        if j == len(my_vehicles) - 1:\n",
    "            myhm.yaxis.set_label_position(\"right\")\n",
    "            #myhm.yaxis.tick_right()\n",
    "            myhm.set_ylabel(models[i])\n",
    "\n",
    "if writefiles:\n",
    "    plt.savefig(\"output/charging_driving_cars.png\",\n",
    "                bbox_inches='tight', dpi=300)\n",
    "    #plt.close()\n",
    "\n"
   ]
  },
  {
   "cell_type": "markdown",
   "metadata": {},
   "source": [
    "## Peak Shaving"
   ]
  },
  {
   "cell_type": "code",
   "execution_count": null,
   "metadata": {},
   "outputs": [],
   "source": [
    "# execute SQL query\n",
    "querypeak = open(\"sqls/opt_runs_15min.sql\").read()\n",
    "dfpeak = pd.read_sql_query(querypeak, conn)\n",
    "\n",
    "# fix datatypes\n",
    "dfpeak[\"runningdate\"] =  pd.to_datetime(dfpeak[\"runningdate\"]) \n",
    "\n",
    "# filter to daterange of field test\n",
    "dfpeak = dfpeak[(dfpeak[\"runningdate\"] >= phases[\"phase1\"]) & (dfpeak[\"runningdate\"] < phases[\"end\"])]\n",
    "dfpeak = dfpeak.set_index(\"runningdate\")\n",
    "dfpeak.head()"
   ]
  },
  {
   "cell_type": "code",
   "execution_count": null,
   "metadata": {},
   "outputs": [],
   "source": [
    "dfpeak2 = dfpeak[\"GridDraw\"].resample('W').agg([\"max\", \"mean\", \"std\", mf.papr]).pad().round(2)\n",
    "models = [\"Direct\", \"Rule-based\", \"Predictive\", \"Stochastic\"]\n",
    "metrics = [\"Maximum [kW]\", \"Average [kW]\", \"Std. Deviation [kW]\", \"PAPR\"]\n",
    "dfpeak2.index = models\n",
    "dfpeak2.columns = metrics\n",
    "dfpeak2 = dfpeak2 #.T #.reset_index()\n",
    "dfpeak2"
   ]
  },
  {
   "cell_type": "code",
   "execution_count": null,
   "metadata": {},
   "outputs": [],
   "source": [
    "if writefiles:\n",
    "    dfpeak2.to_latex(\n",
    "        buf=\"output/peakshaving_strategies.tex\", bold_rows=True)"
   ]
  },
  {
   "cell_type": "code",
   "execution_count": null,
   "metadata": {},
   "outputs": [],
   "source": [
    "import seaborn as sns\n",
    "import matplotlib.pyplot as plt\n",
    "plt.style.use(\"ggplot\")\n",
    "\n",
    "f, ax = plt.subplots()\n",
    "sns.violinplot(data=dfpeak, x=\"phase\", y=\"GridDraw\",\n",
    "               alpha=1, bw=.2, cut=1, linewidth=2)\n",
    "ax.set_xlabel(\"Charging Strategy\")\n",
    "ax.set_ylabel(\"Grid Draw [kW]\")\n",
    "ax.set_xticklabels(models)\n",
    "#ax.set(ylim=(0, 24))\n",
    "\n",
    "if writefiles:\n",
    "    plt.savefig(\"output/peakshaving_strategies.png\",\n",
    "                bbox_inches='tight', dpi=300)\n",
    "    #plt.close()\n"
   ]
  },
  {
   "cell_type": "markdown",
   "metadata": {},
   "source": [
    "## Running time"
   ]
  },
  {
   "cell_type": "code",
   "execution_count": null,
   "metadata": {},
   "outputs": [],
   "source": [
    "data = {}\n",
    "\n",
    "#read logfile line by line\n",
    "with open(\"../../data/lila/computations.log\", 'r') as logfile:\n",
    "    for line in logfile:\n",
    "        split1 = line.split(' - ')\n",
    "        timestamp = pd.Timestamp(split1[0])\n",
    "        calctime = float(split1[3].split(': ')[2].split(' ')[0])\n",
    "        data[timestamp] = calctime\n",
    "\n",
    "#convert dictionary to dataframe\n",
    "logdata = pd.DataFrame.from_dict(data, orient=\"index\", columns=[\"calctime\"])\n",
    "logdata.index.name = \"runningdate\"\n",
    "\n",
    "#remove index\n",
    "logdata.reset_index(inplace=True)\n",
    "\n",
    "#convert string to datetime\n",
    "logdata[\"runningdate\"] =  pd.to_datetime(logdata[\"runningdate\"])\n",
    "\n",
    "#workaround to missing floor function in pandas\n",
    "logdata[\"runningdate\"] = logdata.runningdate - pd.Timedelta(freq) # workaround to missing floor function in pandas\n",
    "logdata[\"runningdate\"] = logdata[\"runningdate\"].round(freq)\n",
    "logdata = logdata[(logdata[\"runningdate\"] >= phases[\"phase1\"]) & (logdata[\"runningdate\"] < phases[\"end\"])]\n",
    "\n",
    "#restore index\n",
    "logdata.set_index(\"runningdate\", inplace=True)\n",
    "\n",
    "#add field test phases\n",
    "logdata[\"phase\"] = 0\n",
    "logdata.loc[phases[\"phase1\"]:phases[\"phase2\"], \"phase\"] = 1\n",
    "logdata.loc[phases[\"phase2\"]:phases[\"phase3\"], \"phase\"] = 2\n",
    "logdata.loc[phases[\"phase3\"]:phases[\"phase4\"], \"phase\"] = 3\n",
    "logdata.loc[phases[\"phase4\"]:phases[\"end\"], \"phase\"] = 4\n",
    "\n",
    "logdata.head()\n",
    "\n"
   ]
  },
  {
   "cell_type": "code",
   "execution_count": null,
   "metadata": {},
   "outputs": [],
   "source": [
    "dfrt_pivot_strategies = logdata.pivot_table(values=\"calctime\", index=\"phase\", aggfunc=[\"max\", \"min\", \"std\", \"mean\"]).round(2)\n",
    "models = [\"Direct\", \"Rule-based\", \"Predictive\", \"Stochastic\"]\n",
    "dfrt_pivot_strategies.index = models\n",
    "dfrt_pivot_strategies.columns.set_levels([\"Maximum\", \"Minimum\", \"Std. Deviation\", \"Average\"], level=0, inplace=True)\n",
    "dfrt_pivot_strategies.columns.set_levels([\"Computation Time [s]\"], level=1, inplace=True)\n",
    "dfrt_pivot_strategies"
   ]
  },
  {
   "cell_type": "code",
   "execution_count": null,
   "metadata": {},
   "outputs": [],
   "source": [
    "if writefiles:\n",
    "    dfrt_pivot_strategies.to_latex(\n",
    "        buf=\"output/computationtime_strategies.tex\", bold_rows=True)"
   ]
  },
  {
   "cell_type": "code",
   "execution_count": null,
   "metadata": {},
   "outputs": [],
   "source": [
    "import seaborn as sns\n",
    "import matplotlib.pyplot as plt\n",
    "plt.style.use(\"ggplot\")\n",
    "\n",
    "f, ax = plt.subplots()\n",
    "sns.violinplot(data=logdata, x=\"phase\", y=\"calctime\",\n",
    "               alpha=1, bw=.2, cut=1, linewidth=2)\n",
    "ax.set_xlabel(\"Charging Strategy\")\n",
    "ax.set_ylabel(\"Computation Time [s]\")\n",
    "ax.set_yscale(\"log\")\n",
    "ax.set_xticklabels(models)\n",
    "#ax.set(ylim=(0, 1000))\n",
    "\n",
    "if writefiles:\n",
    "    plt.savefig(\"output/computationtime_strategies.png\",\n",
    "                bbox_inches='tight', dpi=300)\n",
    "    #plt.close()\n"
   ]
  },
  {
   "cell_type": "code",
   "execution_count": null,
   "metadata": {},
   "outputs": [],
   "source": []
  }
 ],
 "metadata": {
  "interpreter": {
   "hash": "7c39e21a772e99c1a7e3fb7ef3402580462d255e64df51b314942f2f47217269"
  },
  "kernelspec": {
   "display_name": "Python 3.9.7 ('base')",
   "language": "python",
   "name": "python3"
  },
  "language_info": {
   "codemirror_mode": {
    "name": "ipython",
    "version": 3
   },
   "file_extension": ".py",
   "mimetype": "text/x-python",
   "name": "python",
   "nbconvert_exporter": "python",
   "pygments_lexer": "ipython3",
   "version": "3.9.7"
  },
  "orig_nbformat": 4
 },
 "nbformat": 4,
 "nbformat_minor": 2
}
